{
 "cells": [
  {
   "cell_type": "code",
   "execution_count": null,
   "metadata": {},
   "outputs": [],
   "source": [
    "import os, sys\n",
    "sys.path.append('/root/BundleFusion_Ubuntu_Pangolin/build')\n",
    "import time\n",
    "\n",
    "import pyrealsense2 as rs\n",
    "import numpy as np\n",
    "import cv2"
   ]
  },
  {
   "cell_type": "code",
   "execution_count": null,
   "metadata": {},
   "outputs": [],
   "source": [
    "pipeline = rs.pipeline()\n",
    "profile = pipeline.start()\n",
    "\n",
    "align_to = rs.stream.color\n",
    "align = rs.align(align_to)"
   ]
  },
  {
   "cell_type": "code",
   "execution_count": null,
   "metadata": {},
   "outputs": [],
   "source": [
    "from PyBundleFusion import BundleFusion\n",
    "\n",
    "app_config_file = \"../realsense_app_config.txt\"\n",
    "bundle_config_file = \"../realsense_bundle_config.txt\"\n",
    "dataset_root = \"../dataset/office2\""
   ]
  },
  {
   "cell_type": "code",
   "execution_count": null,
   "metadata": {},
   "outputs": [],
   "source": [
    "bundle = BundleFusion(app_config_file, bundle_config_file)"
   ]
  },
  {
   "cell_type": "code",
   "execution_count": null,
   "metadata": {},
   "outputs": [],
   "source": [
    "while True:\n",
    "    # Get frameset of color and depth\n",
    "    frames = pipeline.wait_for_frames()\n",
    "    # frames.get_depth_frame() is a 640x360 depth image\n",
    "\n",
    "    # Align the depth frame to color frame\n",
    "    aligned_frames = align.process(frames)\n",
    "\n",
    "    # Get aligned frames\n",
    "    aligned_depth_frame = aligned_frames.get_depth_frame() # aligned_depth_frame is a 640x480 depth image\n",
    "    color_frame = aligned_frames.get_color_frame()\n",
    "\n",
    "    # Validate that both frames are valid\n",
    "    # if not aligned_depth_frame or not color_frame:\n",
    "    #     continue\n",
    "\n",
    "    depth = np.asanyarray(aligned_depth_frame.get_data())\n",
    "    color = np.asanyarray(color_frame.get_data())\n",
    "\n",
    "    depth = cv2.Mat(depth)\n",
    "    color = cv2.Mat(color)\n",
    "    \n",
    "    result = bundle.process(color, depth)\n",
    "    \n",
    "    if not result:\n",
    "        print(\"Fail!\")\n",
    "        break"
   ]
  },
  {
   "cell_type": "code",
   "execution_count": null,
   "metadata": {},
   "outputs": [],
   "source": []
  },
  {
   "cell_type": "code",
   "execution_count": null,
   "metadata": {},
   "outputs": [],
   "source": []
  },
  {
   "cell_type": "code",
   "execution_count": null,
   "metadata": {},
   "outputs": [],
   "source": [
    "for i,(color,depth) in enumerate(zip(colors,depths)):\n",
    "    print(f\"{i}-th iter || {color, depth}\")\n",
    "    color, depth = cv2.imread(color), cv2.imread(depth, cv2.IMREAD_UNCHANGED)\n",
    "    # depth = (depth << 13 | depth >> 3) # https://github.com/FangGet/BundleFusion_Ubuntu_Pangolin/issues/7\n",
    "    result = bundle.process(color, depth)\n",
    "    if not result:\n",
    "        print(\"Fail!\")\n",
    "        break"
   ]
  },
  {
   "cell_type": "code",
   "execution_count": null,
   "metadata": {},
   "outputs": [],
   "source": []
  }
 ],
 "metadata": {
  "kernelspec": {
   "display_name": "base",
   "language": "python",
   "name": "python3"
  },
  "language_info": {
   "codemirror_mode": {
    "name": "ipython",
    "version": 3
   },
   "file_extension": ".py",
   "mimetype": "text/x-python",
   "name": "python",
   "nbconvert_exporter": "python",
   "pygments_lexer": "ipython3",
   "version": "3.10.12"
  },
  "orig_nbformat": 4
 },
 "nbformat": 4,
 "nbformat_minor": 2
}
