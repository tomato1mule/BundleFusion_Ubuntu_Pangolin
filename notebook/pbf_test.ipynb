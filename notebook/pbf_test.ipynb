{
 "cells": [
  {
   "cell_type": "code",
   "execution_count": null,
   "metadata": {},
   "outputs": [],
   "source": [
    "import os, sys\n",
    "sys.path.append('/root/BundleFusion_Ubuntu_Pangolin/build')\n",
    "import time\n",
    "\n",
    "import cv2"
   ]
  },
  {
   "cell_type": "code",
   "execution_count": null,
   "metadata": {},
   "outputs": [],
   "source": [
    "from PyBundleFusion import BundleFusion\n",
    "\n",
    "app_config_file = \"../zParametersDefault.txt\"\n",
    "bundle_config_file = \"../zParametersBundlingDefault.txt\"\n",
    "dataset_root = \"../dataset/office2\""
   ]
  },
  {
   "cell_type": "code",
   "execution_count": null,
   "metadata": {},
   "outputs": [],
   "source": [
    "bundle = BundleFusion(app_config_file, bundle_config_file)"
   ]
  },
  {
   "cell_type": "code",
   "execution_count": null,
   "metadata": {},
   "outputs": [],
   "source": [
    "paths = os.listdir(dataset_root)\n",
    "paths.sort()\n",
    "\n",
    "info = None\n",
    "depths = []\n",
    "colors = []\n",
    "poses = []\n",
    "for path in paths:   \n",
    "    if path.split('.')[0] == 'info':\n",
    "        with open(os.path.join(dataset_root, path), 'r') as f:\n",
    "            info = f.readlines()\n",
    "    elif path.split('.')[-2] == 'color':\n",
    "        colors.append(os.path.join(dataset_root, path))\n",
    "    elif path.split('.')[-2] == 'depth':\n",
    "        depths.append(os.path.join(dataset_root, path))\n",
    "        \n",
    "assert len(depths) == len(colors)\n",
    "depths.sort()\n",
    "colors.sort()"
   ]
  },
  {
   "cell_type": "code",
   "execution_count": null,
   "metadata": {},
   "outputs": [],
   "source": [
    "for i,(color,depth) in enumerate(zip(colors,depths)):\n",
    "    print(f\"{i}-th iter || {color, depth}\")\n",
    "    color, depth = cv2.imread(color), cv2.imread(depth, cv2.IMREAD_UNCHANGED)\n",
    "    # depth = (depth << 13 | depth >> 3) # https://github.com/FangGet/BundleFusion_Ubuntu_Pangolin/issues/7\n",
    "    result = bundle.process(color, depth)\n",
    "    if not result:\n",
    "        print(\"Fail!\")\n",
    "        break"
   ]
  },
  {
   "cell_type": "code",
   "execution_count": null,
   "metadata": {},
   "outputs": [],
   "source": []
  }
 ],
 "metadata": {
  "kernelspec": {
   "display_name": "base",
   "language": "python",
   "name": "python3"
  },
  "language_info": {
   "codemirror_mode": {
    "name": "ipython",
    "version": 3
   },
   "file_extension": ".py",
   "mimetype": "text/x-python",
   "name": "python",
   "nbconvert_exporter": "python",
   "pygments_lexer": "ipython3",
   "version": "3.10.12"
  },
  "orig_nbformat": 4
 },
 "nbformat": 4,
 "nbformat_minor": 2
}
