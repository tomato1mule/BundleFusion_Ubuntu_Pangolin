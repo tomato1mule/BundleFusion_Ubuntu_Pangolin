{
 "cells": [
  {
   "cell_type": "code",
   "execution_count": null,
   "metadata": {},
   "outputs": [],
   "source": [
    "import os, sys\n",
    "sys.path.append('/root/BundleFusion_Ubuntu_Pangolin/build')\n",
    "import time\n",
    "\n",
    "import cv2"
   ]
  },
  {
   "cell_type": "code",
   "execution_count": null,
   "metadata": {},
   "outputs": [],
   "source": [
    "from PyBundleFusion import BundleFusion\n",
    "\n",
    "app_config_file = \"../zParametersDefault.txt\"\n",
    "bundle_config_file = \"../zParametersBundlingDefault.txt\"\n",
    "dataset_root = \"../dataset/office2\""
   ]
  },
  {
   "cell_type": "code",
   "execution_count": null,
   "metadata": {},
   "outputs": [],
   "source": [
    "bundle = BundleFusion(app_config_file, bundle_config_file)"
   ]
  },
  {
   "cell_type": "code",
   "execution_count": null,
   "metadata": {},
   "outputs": [],
   "source": [
    "paths = os.listdir(dataset_root)\n",
    "paths.sort()\n",
    "\n",
    "info = None\n",
    "depths = []\n",
    "colors = []\n",
    "poses = []\n",
    "for path in paths:\n",
    "    path = os.path.join(dataset_root, path)\n",
    "    \n",
    "    if path.split('.')[0] == 'info':\n",
    "        with open(path, 'r') as f:\n",
    "            info = f.readlines()\n",
    "    elif path.split('.')[-2] == 'color':\n",
    "        colors.append(path)\n",
    "    elif path.split('.')[-2] == 'depth':\n",
    "        depths.append(path)\n",
    "        \n",
    "assert len(depths) == len(colors)\n",
    "depths.sort()\n",
    "colors.sort()"
   ]
  },
  {
   "cell_type": "code",
   "execution_count": null,
   "metadata": {},
   "outputs": [],
   "source": [
    "for i,(color,depth) in enumerate(zip(colors,depths)):\n",
    "    print(f\"{i}-th iter || {color, depth}\")\n",
    "    color, depth = cv2.imread(color), cv2.imread(depth, cv2.IMREAD_UNCHANGED)\n",
    "    result = bundle.process(color, depth)\n",
    "    if not result:\n",
    "        print(\"Fail!\")\n",
    "        break"
   ]
  },
  {
   "cell_type": "code",
   "execution_count": null,
   "metadata": {},
   "outputs": [],
   "source": [
    "\n"
   ]
  },
  {
   "cell_type": "code",
   "execution_count": null,
   "metadata": {},
   "outputs": [],
   "source": [
    "# filenames = [f for f in os.listdir(dataset_root) if f.endswith('.color.jpg')]\n",
    "# filenames = sorted([filename[:-10] for filename in filenames])  # Sort and remove the \".color.jpg\" part\n",
    "\n",
    "# for filename in filenames:\n",
    "#     print(filename)\n",
    "#     rgb_path = os.path.join(dataset_root, f\"{filename}.color.jpg\")\n",
    "#     dep_path = os.path.join(dataset_root, f\"{filename}.depth.png\")\n",
    "#     # pos_path = os.path.join(data_root, filename + \".pose.txt\")  # Not used in the provided code\n",
    "\n",
    "#     # Load the images\n",
    "#     rgbImage = cv2.imread(rgb_path)\n",
    "#     depthImage = cv2.imread(dep_path, cv2.IMREAD_UNCHANGED)\n",
    "\n",
    "#     if rgbImage is None or depthImage is None:\n",
    "#         print(\"No image found\")\n",
    "#         continue\n",
    "    \n",
    "#     if bundle.process(rgbImage, depthImage):\n",
    "#         print(f\"\\tSuccess! frame {filename} added into BundleFusion.\")\n",
    "#     else:\n",
    "#         print(f\"\\tFailed! frame {filename} not added into BundleFusion.\")"
   ]
  },
  {
   "cell_type": "code",
   "execution_count": null,
   "metadata": {},
   "outputs": [],
   "source": []
  },
  {
   "cell_type": "code",
   "execution_count": null,
   "metadata": {},
   "outputs": [],
   "source": []
  },
  {
   "cell_type": "code",
   "execution_count": null,
   "metadata": {},
   "outputs": [],
   "source": []
  }
 ],
 "metadata": {
  "kernelspec": {
   "display_name": "base",
   "language": "python",
   "name": "python3"
  },
  "language_info": {
   "codemirror_mode": {
    "name": "ipython",
    "version": 3
   },
   "file_extension": ".py",
   "mimetype": "text/x-python",
   "name": "python",
   "nbconvert_exporter": "python",
   "pygments_lexer": "ipython3",
   "version": "3.10.12"
  },
  "orig_nbformat": 4
 },
 "nbformat": 4,
 "nbformat_minor": 2
}
